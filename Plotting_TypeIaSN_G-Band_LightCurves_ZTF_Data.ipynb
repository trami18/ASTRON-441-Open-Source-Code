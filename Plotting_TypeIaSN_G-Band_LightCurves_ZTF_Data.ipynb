{
 "cells": [
  {
   "cell_type": "markdown",
   "id": "a9af693d",
   "metadata": {},
   "source": [
    "<div class=\"alert alert-block alert-info\">\n",
    "    <b>Name:</b> Teresita Ramirez, <b>Date:</b> October 2022 , <b>Assignment-ASTRON441-0</b>\n",
    "</div>"
   ]
  },
  {
   "cell_type": "markdown",
   "id": "439665ac",
   "metadata": {},
   "source": [
    "## <font color=darkblue>Loading Modules/Libraries</font>\n"
   ]
  },
  {
   "cell_type": "code",
   "execution_count": 1,
   "id": "bfec6df5",
   "metadata": {},
   "outputs": [],
   "source": [
    "import json\n",
    "import math\n",
    "import pandas as pd\n",
    "import csv\n",
    "import matplotlib.pyplot as plt\n",
    "import matplotlib.font_manager as font_manager\n",
    "import matplotlib.font_manager\n",
    "import numpy as np\n",
    "import pandas as pd  \n",
    "import glob\n",
    "import requests\n",
    "from lmfit.models import LinearModel\n",
    "from matplotlib import rc,gridspec\n",
    "from matplotlib.ticker import MultipleLocator\n",
    "from pprint import pprint\n",
    "from scipy.optimize import curve_fit\n",
    "from astropy import units as u\n",
    "from astropy import constants as const"
   ]
  },
  {
   "cell_type": "markdown",
   "id": "e57faa94",
   "metadata": {},
   "source": [
    "## <font color=darkblue>Loading SNe 1a parameters from ZTF:</font>\n",
    "#### Different SNe Type 1a data from the ZTF BTS Sample Explorer (https://sites.astro.caltech.edu/ztf/bts/bts.php)"
   ]
  },
  {
   "cell_type": "code",
   "execution_count": 3,
   "id": "801bddf0",
   "metadata": {
    "scrolled": false
   },
   "outputs": [
    {
     "data": {
      "text/html": [
       "<div>\n",
       "<style scoped>\n",
       "    .dataframe tbody tr th:only-of-type {\n",
       "        vertical-align: middle;\n",
       "    }\n",
       "\n",
       "    .dataframe tbody tr th {\n",
       "        vertical-align: top;\n",
       "    }\n",
       "\n",
       "    .dataframe thead th {\n",
       "        text-align: right;\n",
       "    }\n",
       "</style>\n",
       "<table border=\"1\" class=\"dataframe\">\n",
       "  <thead>\n",
       "    <tr style=\"text-align: right;\">\n",
       "      <th></th>\n",
       "      <th>ZTFID</th>\n",
       "      <th>IAUID</th>\n",
       "      <th>RA</th>\n",
       "      <th>Dec</th>\n",
       "      <th>redshift</th>\n",
       "      <th>A_V</th>\n",
       "    </tr>\n",
       "  </thead>\n",
       "  <tbody>\n",
       "    <tr>\n",
       "      <th>0</th>\n",
       "      <td>ZTF22aajpgof</td>\n",
       "      <td>SN2022jsg</td>\n",
       "      <td>15:39:47.12</td>\n",
       "      <td>-20:09:52.7</td>\n",
       "      <td>0.07000</td>\n",
       "      <td>0.385</td>\n",
       "    </tr>\n",
       "    <tr>\n",
       "      <th>1</th>\n",
       "      <td>ZTF22aaijrul</td>\n",
       "      <td>SN2022jsn</td>\n",
       "      <td>21:35:51.21</td>\n",
       "      <td>+10:51:07.3</td>\n",
       "      <td>0.09000</td>\n",
       "      <td>0.165</td>\n",
       "    </tr>\n",
       "    <tr>\n",
       "      <th>2</th>\n",
       "      <td>ZTF22aahhlnd</td>\n",
       "      <td>SN2022ied</td>\n",
       "      <td>12:59:37.27</td>\n",
       "      <td>+05:36:52.7</td>\n",
       "      <td>0.05100</td>\n",
       "      <td>0.095</td>\n",
       "    </tr>\n",
       "    <tr>\n",
       "      <th>3</th>\n",
       "      <td>ZTF22aagsmli</td>\n",
       "      <td>SN2022imy</td>\n",
       "      <td>10:36:28.06</td>\n",
       "      <td>+44:52:58.2</td>\n",
       "      <td>0.07610</td>\n",
       "      <td>0.052</td>\n",
       "    </tr>\n",
       "    <tr>\n",
       "      <th>4</th>\n",
       "      <td>ZTF22aafqamd</td>\n",
       "      <td>SN2022hqu</td>\n",
       "      <td>08:23:56.74</td>\n",
       "      <td>+42:06:42.8</td>\n",
       "      <td>0.05900</td>\n",
       "      <td>0.127</td>\n",
       "    </tr>\n",
       "    <tr>\n",
       "      <th>5</th>\n",
       "      <td>ZTF22aafoweb</td>\n",
       "      <td>SN2022hox</td>\n",
       "      <td>15:03:27.71</td>\n",
       "      <td>+34:24:52.4</td>\n",
       "      <td>0.05707</td>\n",
       "      <td>0.040</td>\n",
       "    </tr>\n",
       "    <tr>\n",
       "      <th>6</th>\n",
       "      <td>ZTF22aajryew</td>\n",
       "      <td>SN2022jte</td>\n",
       "      <td>18:00:11.06</td>\n",
       "      <td>+48:39:16.4</td>\n",
       "      <td>0.05096</td>\n",
       "      <td>0.125</td>\n",
       "    </tr>\n",
       "    <tr>\n",
       "      <th>7</th>\n",
       "      <td>ZTF22aaejjtb</td>\n",
       "      <td>SN2022gqh</td>\n",
       "      <td>09:38:08.78</td>\n",
       "      <td>+11:07:49.2</td>\n",
       "      <td>0.06500</td>\n",
       "      <td>0.100</td>\n",
       "    </tr>\n",
       "    <tr>\n",
       "      <th>8</th>\n",
       "      <td>ZTF22aaedgbt</td>\n",
       "      <td>SN2022fqo</td>\n",
       "      <td>15:35:59.60</td>\n",
       "      <td>+03:25:39.2</td>\n",
       "      <td>0.08500</td>\n",
       "      <td>0.152</td>\n",
       "    </tr>\n",
       "    <tr>\n",
       "      <th>9</th>\n",
       "      <td>ZTF21acipdhn</td>\n",
       "      <td>SN2021abzk</td>\n",
       "      <td>10:30:12.32</td>\n",
       "      <td>+78:48:23.1</td>\n",
       "      <td>0.07900</td>\n",
       "      <td>0.069</td>\n",
       "    </tr>\n",
       "  </tbody>\n",
       "</table>\n",
       "</div>"
      ],
      "text/plain": [
       "          ZTFID       IAUID           RA          Dec  redshift    A_V\n",
       "0  ZTF22aajpgof   SN2022jsg  15:39:47.12  -20:09:52.7   0.07000  0.385\n",
       "1  ZTF22aaijrul   SN2022jsn  21:35:51.21  +10:51:07.3   0.09000  0.165\n",
       "2  ZTF22aahhlnd   SN2022ied  12:59:37.27  +05:36:52.7   0.05100  0.095\n",
       "3  ZTF22aagsmli   SN2022imy  10:36:28.06  +44:52:58.2   0.07610  0.052\n",
       "4  ZTF22aafqamd   SN2022hqu  08:23:56.74  +42:06:42.8   0.05900  0.127\n",
       "5  ZTF22aafoweb   SN2022hox  15:03:27.71  +34:24:52.4   0.05707  0.040\n",
       "6  ZTF22aajryew   SN2022jte  18:00:11.06  +48:39:16.4   0.05096  0.125\n",
       "7  ZTF22aaejjtb   SN2022gqh  09:38:08.78  +11:07:49.2   0.06500  0.100\n",
       "8  ZTF22aaedgbt   SN2022fqo  15:35:59.60  +03:25:39.2   0.08500  0.152\n",
       "9  ZTF21acipdhn  SN2021abzk  10:30:12.32  +78:48:23.1   0.07900  0.069"
      ]
     },
     "execution_count": 3,
     "metadata": {},
     "output_type": "execute_result"
    }
   ],
   "source": [
    "data = pd.read_csv (r'real_SN_3_samples.csv')  \n",
    "df = pd.DataFrame(data, columns= ['ZTFID','IAUID','RA','Dec','redshift','A_V'])\n",
    "df"
   ]
  },
  {
   "cell_type": "markdown",
   "id": "60d671c0",
   "metadata": {},
   "source": [
    "## <font color=darkblue>Loading data and parsing JSON for $g_{band}$ Values</font>\n"
   ]
  },
  {
   "cell_type": "code",
   "execution_count": 4,
   "id": "00444a37",
   "metadata": {},
   "outputs": [
    {
     "name": "stdout",
     "output_type": "stream",
     "text": [
      "ZTF22aajpgof\n",
      "ZTF22aaijrul\n",
      "ZTF22aahhlnd\n",
      "ZTF22aagsmli\n",
      "ZTF22aafqamd\n",
      "ZTF22aafoweb\n",
      "ZTF22aajryew\n",
      "ZTF22aaejjtb\n",
      "ZTF22aaedgbt\n",
      "ZTF21acipdhn\n"
     ]
    }
   ],
   "source": [
    "list_of_MAGPSF=[]\n",
    "list_of_MJD=[]\n",
    "list_of_FID=[]\n",
    "list_of_SIGMAPSF=[]\n",
    "\n",
    "for i in df['ZTFID']:\n",
    "    print(i)\n",
    "    # open the json file\n",
    "    #json_file= open(str(i)+'.json')\n",
    "    #json_str = json_file.read()\n",
    "    #json_data = json.loads(json_str)"
   ]
  },
  {
   "cell_type": "code",
   "execution_count": 5,
   "id": "f49291f8",
   "metadata": {},
   "outputs": [
    {
     "ename": "FileNotFoundError",
     "evalue": "[Errno 2] No such file or directory: 'ZTF22aajpgof.json'",
     "output_type": "error",
     "traceback": [
      "\u001b[0;31m---------------------------------------------------------------------------\u001b[0m",
      "\u001b[0;31mFileNotFoundError\u001b[0m                         Traceback (most recent call last)",
      "Input \u001b[0;32mIn [5]\u001b[0m, in \u001b[0;36m<cell line: 6>\u001b[0;34m()\u001b[0m\n\u001b[1;32m      4\u001b[0m list_of_SIGMAPSF\u001b[38;5;241m=\u001b[39m[]\n\u001b[1;32m      6\u001b[0m \u001b[38;5;28;01mfor\u001b[39;00m i \u001b[38;5;129;01min\u001b[39;00m df[\u001b[38;5;124m'\u001b[39m\u001b[38;5;124mZTFID\u001b[39m\u001b[38;5;124m'\u001b[39m]:\n\u001b[1;32m      7\u001b[0m     \n\u001b[1;32m      8\u001b[0m     \u001b[38;5;66;03m# open the json file\u001b[39;00m\n\u001b[0;32m----> 9\u001b[0m     json_file\u001b[38;5;241m=\u001b[39m \u001b[38;5;28;43mopen\u001b[39;49m\u001b[43m(\u001b[49m\u001b[38;5;28;43mstr\u001b[39;49m\u001b[43m(\u001b[49m\u001b[43mi\u001b[49m\u001b[43m)\u001b[49m\u001b[38;5;241;43m+\u001b[39;49m\u001b[38;5;124;43m'\u001b[39;49m\u001b[38;5;124;43m.json\u001b[39;49m\u001b[38;5;124;43m'\u001b[39;49m\u001b[43m)\u001b[49m\n\u001b[1;32m     10\u001b[0m     json_str \u001b[38;5;241m=\u001b[39m json_file\u001b[38;5;241m.\u001b[39mread()\n\u001b[1;32m     11\u001b[0m     json_data \u001b[38;5;241m=\u001b[39m json\u001b[38;5;241m.\u001b[39mloads(json_str)\n",
      "\u001b[0;31mFileNotFoundError\u001b[0m: [Errno 2] No such file or directory: 'ZTF22aajpgof.json'"
     ]
    }
   ],
   "source": [
    "list_of_MAGPSF=[]\n",
    "list_of_MJD=[]\n",
    "list_of_FID=[]\n",
    "list_of_SIGMAPSF=[]\n",
    "\n",
    "for i in df['ZTFID']:\n",
    "    \n",
    "    # open the json file\n",
    "    json_file= open(str(i)+'.json')\n",
    "    json_str = json_file.read()\n",
    "    json_data = json.loads(json_str)\n",
    "\n",
    "    # Using 'pprint' to print out the data with the proper indents\n",
    "    #pprint(json_data) \n",
    "\n",
    "    #Looking only for green band params:\n",
    "    MAGPSF=[]\n",
    "    MJD=[]\n",
    "    FID=[]\n",
    "    SIGMAPSF=[]\n",
    "    ObjectID=[]\n",
    "    for parameter, v in json_data.items():\n",
    "        DumpedData = json.dumps(v)\n",
    "        DesiredValue = json.loads(DumpedData)\n",
    "        if parameter == 'objectId':\n",
    "            ZTF_ID= DumpedData\n",
    "            ObjectID.append(ZTF_ID)\n",
    "        if parameter == 'candidates':\n",
    "            for i in DesiredValue:\n",
    "\n",
    "                if 'sigmapsf' in i.keys():\n",
    "                    if i['fid']==1:\n",
    "                        mag_psf = i['magpsf']\n",
    "                        MAGPSF.append(mag_psf)\n",
    "                        mjd = i['mjd']\n",
    "                        MJD.append(mjd)\n",
    "                        fid = i['fid']\n",
    "                        FID.append(fid)\n",
    "                        sigma_psf = i['sigmapsf']\n",
    "                        SIGMAPSF.append(sigma_psf)\n",
    "    list_of_MAGPSF.append(np.array(MAGPSF))\n",
    "    list_of_MJD.append(np.array(MJD))\n",
    "    list_of_FID.append(np.array(FID))\n",
    "    list_of_SIGMAPSF.append(np.array(SIGMAPSF))"
   ]
  },
  {
   "cell_type": "code",
   "execution_count": null,
   "id": "1f6916e8",
   "metadata": {},
   "outputs": [],
   "source": [
    "MAGPSF = np.array(list_of_MAGPSF,dtype=object)\n",
    "MJD = np.array(list_of_MJD,dtype=object)\n",
    "FID = np.array(list_of_FID,dtype=object)\n",
    "SIGMAPSF = np.array(list_of_SIGMAPSF,dtype=object)\n",
    "redshift = df['redshift']\n",
    "Reddening = df['A_V']\n",
    "ZTF_ID = df['ZTFID']"
   ]
  },
  {
   "cell_type": "markdown",
   "id": "1295cba8",
   "metadata": {},
   "source": [
    "## <font color=darkblue>Setting $T_{peak}=0$ and getting relative times to SN frame:</font>"
   ]
  },
  {
   "cell_type": "code",
   "execution_count": null,
   "id": "04fd6975",
   "metadata": {},
   "outputs": [],
   "source": [
    "list_relative_times=[]\n",
    "for j in range(len(MJD)):\n",
    "    find_peak_data=np.argmin(MAGPSF[j])\n",
    "    rescaled_times=np.subtract(MJD[j],MJD[j][find_peak_data])\n",
    "    relative_times=rescaled_times/(1+redshift[j])\n",
    "    list_relative_times.append(relative_times)\n"
   ]
  },
  {
   "cell_type": "markdown",
   "id": "d0ef9929",
   "metadata": {},
   "source": [
    "## <font color=darkblue>Obtaining data $5 days < M_{peak} < 25 days$</font>"
   ]
  },
  {
   "cell_type": "code",
   "execution_count": null,
   "id": "3ee57bb2",
   "metadata": {
    "scrolled": false
   },
   "outputs": [],
   "source": [
    "list_truncated_mag=[]\n",
    "list_truncated_mjd=[]\n",
    "list_truncated_sig=[]\n",
    "\n",
    "for n in range(len(MAGPSF)):\n",
    "\n",
    "    find_peak_data=np.argmin(MAGPSF[n])\n",
    "    \n",
    "    # 5 MJD before peak:\n",
    "    start_JD=list_relative_times[n][find_peak_data]-5\n",
    "\n",
    "    # 25 MJD after peak:\n",
    "    end_JD=list_relative_times[n][find_peak_data]+25\n",
    "    if df['ZTFID'][n] == 'ZTF20aatzwgk':\n",
    "            start_JD=list_relative_times[n][find_peak_data]-3 #This sample doesnt have enough data points to account for 5 days before peak. \n",
    "    for i in range(len(list_relative_times[n])):\n",
    "        if list_relative_times[n][i]<=start_JD:\n",
    "            upperbound=i\n",
    "            break\n",
    "\n",
    "    for i in range(len(list_relative_times[n])):       \n",
    "        if list_relative_times[n][i]<=end_JD:\n",
    "            lowerbound=i\n",
    "            break\n",
    "    if df['ZTFID'][n] == 'ZTF20aatzwgk':\n",
    "            upperbound=upperbound+1\n",
    "            \n",
    "    truncated_mag=MAGPSF[n][lowerbound:upperbound]\n",
    "    truncated_mjd=list_relative_times[n][lowerbound:upperbound]\n",
    "    truncated_sig=SIGMAPSF[n][lowerbound:upperbound]\n",
    "    \n",
    "    list_truncated_mag.append(truncated_mag)\n",
    "    list_truncated_mjd.append(truncated_mjd)\n",
    "    list_truncated_sig.append(truncated_sig)\n"
   ]
  },
  {
   "cell_type": "markdown",
   "id": "639649ad",
   "metadata": {},
   "source": [
    "## <font color=darkblue>Polynomial Fit Model using <code>np.polyfit</code> </font>\n"
   ]
  },
  {
   "cell_type": "code",
   "execution_count": null,
   "id": "d898f2fd",
   "metadata": {
    "scrolled": true
   },
   "outputs": [],
   "source": [
    "list_fitted_vals=[]\n",
    "list_polyfits=[]\n",
    "for i in range(len(list_relative_times)):\n",
    "    poly_fit = np.polyfit(list_truncated_mjd[i], list_truncated_mag[i], deg=5, w=1/list_truncated_sig[i])\n",
    "    fitted_vals=np.polyval(poly_fit, list_truncated_mjd[i])\n",
    "    list_fitted_vals.append(fitted_vals)\n",
    "    list_polyfits.append(poly_fit)"
   ]
  },
  {
   "cell_type": "markdown",
   "id": "81854591",
   "metadata": {},
   "source": [
    "## <font color=darkblue>Plotting $g_{band}$ Light Curve</font>\n",
    "#### All Light Curves in one plot:\n",
    "\n"
   ]
  },
  {
   "cell_type": "code",
   "execution_count": null,
   "id": "4f9233f3",
   "metadata": {
    "scrolled": false
   },
   "outputs": [],
   "source": [
    "colors=['fuchsia','grey','orange','lime','blue','cyan','indigo','red','black','green']\n",
    "fig = plt.figure(figsize = (15,10))\n",
    "\n",
    "plt.grid(True,which=\"both\", linestyle='--',color='0.65')\n",
    "plt.rcParams[\"font.family\"] = \"Times New Roman\"\n",
    "plt.xticks(fontsize = \"20\",fontname='Times New Roman')\n",
    "plt.yticks(fontsize = \"20\",fontname='Times New Roman')\n",
    "for s in range(len(list_fitted_vals)):\n",
    "    plt.scatter(list_truncated_mjd[s],list_truncated_mag[s],color=str(colors[s]))\n",
    "    plt.errorbar(list_truncated_mjd[s], list_truncated_mag[s],list_truncated_sig[s],linestyle=\"None\",color=str(colors[s]))#,color='red')\n",
    "    plt.plot(list_truncated_mjd[s],list_fitted_vals[s],label='poly fit '+str(ZTF_ID[s]),linestyle='--',color=str(colors[s]))\n",
    "\n",
    "plt.gca().invert_yaxis()\n",
    "plt.xlabel('Time$\\,$[days]',size = 20, fontname='Times New Roman')\n",
    "plt.ylabel('Difference Magnitude',size = 20, fontname='Times New Roman')\n",
    "plt.title('Type Ia SNe Light Curves',size = 20, fontname='Times New Roman')\n",
    "ax = plt.gca()  # only to illustrate what `ax` is\n",
    "plt.legend()\n",
    "plt.show()"
   ]
  },
  {
   "cell_type": "code",
   "execution_count": null,
   "id": "54e9e3d2",
   "metadata": {},
   "outputs": [],
   "source": []
  }
 ],
 "metadata": {
  "kernelspec": {
   "display_name": "Python 3 (ipykernel)",
   "language": "python",
   "name": "python3"
  },
  "language_info": {
   "codemirror_mode": {
    "name": "ipython",
    "version": 3
   },
   "file_extension": ".py",
   "mimetype": "text/x-python",
   "name": "python",
   "nbconvert_exporter": "python",
   "pygments_lexer": "ipython3",
   "version": "3.8.13"
  }
 },
 "nbformat": 4,
 "nbformat_minor": 5
}
